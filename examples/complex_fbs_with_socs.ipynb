{
 "cells": [
  {
   "cell_type": "markdown",
   "metadata": {},
   "source": [
    "# Feature Based Scheduler run with SOCS and custom scheduler configuration"
   ]
  },
  {
   "cell_type": "markdown",
   "metadata": {},
   "source": [
    "This example notebook show how to do a slightly more complex 1 day FBS run using SOCS. In this example we use a custom FBS configuration done directly on the notebook.\n",
    "\n",
    "Before running the notebook make sure you run `manage_db --save-dir $HOME/run_local/output/` on the command line to setup the SOCS database. "
   ]
  },
  {
   "cell_type": "code",
   "execution_count": 1,
   "metadata": {},
   "outputs": [],
   "source": [
    "import logging\n",
    "import healpy as hp\n",
    "import numpy as np\n",
    "\n",
    "import lsst.sims.featureScheduler as fs\n",
    "\n",
    "from lsst.sims.featureScheduler.driver import FeatureSchedulerDriver as Driver\n",
    "\n",
    "from lsst.sims.ocs.database import SocsDatabase\n",
    "from lsst.sims.ocs.kernel import Simulator\n",
    "from lsst.sims.ocs.setup import create_parser\n",
    "from lsst.sims.ocs.setup import apply_file_config, read_file_config\n",
    "\n",
    "from lsst.ts.scheduler.kernel import SurveyTopology"
   ]
  },
  {
   "cell_type": "code",
   "execution_count": 2,
   "metadata": {},
   "outputs": [],
   "source": [
    "logging.getLogger().setLevel(logging.INFO)\n",
    "logging.basicConfig(level=logging.INFO,\n",
    "                    format='%(asctime)s %(name)-12s %(levelname)-8s %(message)s',\n",
    "                    datefmt='%m-%d %H:%M')"
   ]
  },
  {
   "cell_type": "markdown",
   "metadata": {},
   "source": [
    "This next cell loads default command line arguments. These are needed mainly to setup the simulation database."
   ]
  },
  {
   "cell_type": "code",
   "execution_count": 3,
   "metadata": {},
   "outputs": [
    {
     "name": "stdout",
     "output_type": "stream",
     "text": [
      "/home/opsim/run_local/output/ None None\n"
     ]
    }
   ],
   "source": [
    "parser = create_parser()\n",
    "args = parser.parse_known_args()[0]\n",
    "prog_conf = read_file_config()\n",
    "if prog_conf is not None:\n",
    "    apply_file_config(prog_conf, args)\n",
    "print(args.sqlite_save_dir, args.session_id_start, args.sqlite_session_save_dir)"
   ]
  },
  {
   "cell_type": "markdown",
   "metadata": {},
   "source": [
    "Setup socs database to store simulations results, if needed."
   ]
  },
  {
   "cell_type": "code",
   "execution_count": 4,
   "metadata": {},
   "outputs": [],
   "source": [
    "db = SocsDatabase(sqlite_save_path=args.sqlite_save_dir,\n",
    "                  session_id_start=args.session_id_start,\n",
    "                  sqlite_session_save_path=args.sqlite_session_save_dir)"
   ]
  },
  {
   "cell_type": "code",
   "execution_count": 5,
   "metadata": {},
   "outputs": [],
   "source": [
    "session_id = db.new_session(\"FBS test on notebook\")"
   ]
  },
  {
   "cell_type": "markdown",
   "metadata": {},
   "source": [
    "We now define a driver for the simulation. In this case, we already imported the FBS driver as Driver so we simply call it."
   ]
  },
  {
   "cell_type": "code",
   "execution_count": 6,
   "metadata": {},
   "outputs": [],
   "source": [
    "driver = Driver()"
   ]
  },
  {
   "cell_type": "markdown",
   "metadata": {},
   "source": [
    "By default the duration of a simulation is 10 years. Here we will run a single day."
   ]
  },
  {
   "cell_type": "code",
   "execution_count": 7,
   "metadata": {},
   "outputs": [],
   "source": [
    "args.frac_duration = 0.003"
   ]
  },
  {
   "cell_type": "markdown",
   "metadata": {},
   "source": [
    "We now set the SOCS simulator"
   ]
  },
  {
   "cell_type": "code",
   "execution_count": 8,
   "metadata": {},
   "outputs": [],
   "source": [
    "sim = Simulator(args, db, driver=driver)"
   ]
  },
  {
   "cell_type": "markdown",
   "metadata": {},
   "source": [
    "Up to this point, the scheduler is still not configured. Let's make a custom configuration. "
   ]
  },
  {
   "cell_type": "code",
   "execution_count": 9,
   "metadata": {},
   "outputs": [],
   "source": [
    "survey_topology = SurveyTopology()\n",
    "survey_topology.num_general_props = 4\n",
    "survey_topology.general_propos = [\"NorthEclipticSpur\", \"SouthCelestialPole\", \"WideFastDeep\", \"GalacticPlane\"]\n",
    "survey_topology.num_seq_props = 1\n",
    "survey_topology.sequence_propos = [\"DeepDrillingCosmology1\"]\n",
    "\n",
    "target_maps = {}\n",
    "nside = fs.set_default_nside(nside=32)  # Required\n",
    "\n",
    "target_maps['u'] = fs.generate_goal_map(NES_fraction=0.,\n",
    "                                        WFD_fraction=0.31, SCP_fraction=0.08,\n",
    "                                        GP_fraction=0.004,\n",
    "                                        WFD_upper_edge_fraction=0.0,\n",
    "                                        nside=nside,\n",
    "                                        generate_id_map=True)\n",
    "target_maps['g'] = fs.generate_goal_map(NES_fraction=0.2,\n",
    "                                        WFD_fraction=0.44, SCP_fraction=0.08,\n",
    "                                        GP_fraction=0.004,\n",
    "                                        WFD_upper_edge_fraction=0.0,\n",
    "                                        nside=nside,\n",
    "                                        generate_id_map=True)\n",
    "target_maps['r'] = fs.generate_goal_map(NES_fraction=0.46,\n",
    "                                        WFD_fraction=1.0, SCP_fraction=0.08,\n",
    "                                        WFD_upper_edge_fraction=0.0,\n",
    "                                        GP_fraction=0.004,\n",
    "                                        nside=nside,\n",
    "                                        generate_id_map=True)\n",
    "target_maps['i'] = fs.generate_goal_map(NES_fraction=0.46,\n",
    "                                        WFD_fraction=1.0, SCP_fraction=0.08,\n",
    "                                        GP_fraction=0.004,\n",
    "                                        WFD_upper_edge_fraction=0.0,\n",
    "                                        nside=nside,\n",
    "                                        generate_id_map=True)\n",
    "target_maps['z'] = fs.generate_goal_map(NES_fraction=0.4,\n",
    "                                        WFD_fraction=0.9, SCP_fraction=0.08,\n",
    "                                        GP_fraction=0.004,\n",
    "                                        WFD_upper_edge_fraction=0.0,\n",
    "                                        nside=nside,\n",
    "                                        generate_id_map=True)\n",
    "target_maps['y'] = fs.generate_goal_map(NES_fraction=0.,\n",
    "                                        WFD_fraction=0.9, SCP_fraction=0.08,\n",
    "                                        GP_fraction=0.004,\n",
    "                                        WFD_upper_edge_fraction=0.0,\n",
    "                                        nside=nside,\n",
    "                                        generate_id_map=True)\n",
    "\n",
    "cloud_map = fs.utils.generate_cloud_map(target_maps, filtername='r',\n",
    "                                        wfd_cloud_max=0.7,\n",
    "                                        scp_cloud_max=0.7,\n",
    "                                        gp_cloud_max=0.7,\n",
    "                                        nes_cloud_max=0.7)\n",
    "\n",
    "# x1 = 30.\n",
    "# x0 = 2.\n",
    "# B = x1 / (x1 - x0)\n",
    "# A = -B / x1\n",
    "# width = np.arange(x0, x1, 0.5)\n",
    "# z_pad = width + 8.\n",
    "# weight = (A * width + B)\n",
    "# height = np.zeros_like(width) + 80.\n",
    "\n",
    "width = (10.,)\n",
    "z_pad = (18.,)\n",
    "weight = (1.,)\n",
    "height = (80.,)\n",
    "\n",
    "filters = ['u', 'g', 'r', 'i', 'z', 'y']\n",
    "surveys = []\n",
    "\n",
    "sb_limit_map = fs.utils.generate_sb_map(target_maps, filters)\n",
    "\n",
    "filter_prop = {'u': 0.069,\n",
    "               'g': 0.097,\n",
    "               'r': 0.222,\n",
    "               'i': 0.222,\n",
    "               'z': 0.194,\n",
    "               'y': 0.194}\n",
    "\n",
    "for filtername in filters:\n",
    "    bfs = list()\n",
    "    # bfs.append(fs.M5_diff_basis_function(filtername=filtername, nside=nside))\n",
    "    bfs.append(fs.HourAngle_bonus_basis_function(max_hourangle=3.))\n",
    "    bfs.append(fs.Skybrightness_limit_basis_function(nside=nside,\n",
    "                                                     filtername=filtername,\n",
    "                                                     min=sb_limit_map[filtername]['min'],\n",
    "                                                     max=sb_limit_map[filtername]['max']))\n",
    "    bfs.append(fs.Target_map_basis_function(filtername=filtername,\n",
    "                                            target_map=target_maps[filtername][0],\n",
    "                                            out_of_bounds_val=hp.UNSEEN, nside=nside))\n",
    "    bfs.append(fs.MeridianStripeBasisFunction(nside=nside,width=width,\n",
    "                                              weight=weight,\n",
    "                                              height=height,\n",
    "                                              zenith_pad=z_pad))\n",
    "    # bfs.append(fs.HADecAltAzPatchBasisFunction(nside=nside,\n",
    "    #                                            patches=patches[::-1]))\n",
    "    bfs.append(fs.Aggressive_Slewtime_basis_function(filtername=filtername, nside=nside, order=6., hard_max=20.))\n",
    "    bfs.append(fs.Goal_Strict_filter_basis_function(filtername=filtername,\n",
    "                                               time_lag_min=90.,\n",
    "                                               time_lag_max=150.,\n",
    "                                               time_lag_boost=180.,\n",
    "                                               boost_gain=1.0,\n",
    "                                               unseen_before_lag=True,\n",
    "                                               proportion=filter_prop[filtername],\n",
    "                                               aways_available=filtername in 'zy'))\n",
    "    bfs.append(fs.Avoid_Fast_Revists(filtername=None, gap_min=240., nside=nside))\n",
    "    bfs.append(fs.Bulk_cloud_basis_function(max_cloud_map=cloud_map, nside=nside))\n",
    "    bfs.append(fs.Moon_avoidance_basis_function(nside=nside, moon_distance=40.))\n",
    "    # bfs.append(fs.CableWrap_unwrap_basis_function(nside=nside, activate_tol=70., unwrap_until=315,\n",
    "    #                                               max_duration=90.))\n",
    "    # bfs.append(fs.NorthSouth_scan_basis_function(length=70.))\n",
    "\n",
    "    weights = np.array([2., 0.1, .1, 1., 3., 1.5, 1.0, 1.0, 1.0])\n",
    "    surveys.append(fs.Greedy_survey_fields(bfs, weights, block_size=1,\n",
    "                                           filtername=filtername, dither=True,\n",
    "                                           nside=nside,\n",
    "                                           tag_fields=True,\n",
    "                                           tag_map=target_maps[filtername][1],\n",
    "                                           tag_names=target_maps[filtername][2],\n",
    "                                           ignore_obs='DD'))\n",
    "\n",
    "# Set up pairs\n",
    "pairs_bfs = []\n",
    "\n",
    "pair_map = np.zeros(len(target_maps['z'][0]))\n",
    "pair_map.fill(hp.UNSEEN)\n",
    "wfd = np.where(target_maps['z'][1] == 3)\n",
    "nes = np.where(target_maps['z'][1] == 1)\n",
    "pair_map[wfd] = 1.\n",
    "pair_map[nes] = 1.\n",
    "\n",
    "pairs_bfs.append(fs.Target_map_basis_function(filtername='',\n",
    "                                              target_map=pair_map,\n",
    "                                              out_of_bounds_val=hp.UNSEEN, nside=nside))\n",
    "pairs_bfs.append(fs.MeridianStripeBasisFunction(nside=nside, zenith_pad=(45.,), width=(35.,)))\n",
    "pairs_bfs.append(fs.Moon_avoidance_basis_function(nside=nside, moon_distance=30.))\n",
    "\n",
    "# surveys.append(fs.Pairs_survey_scripted(pairs_bfs, [1., 1., 1.], ignore_obs='DD', min_alt=20.))\n",
    "surveys.append(fs.Pairs_different_filters_scripted(pairs_bfs, [1., 1., 1.], ignore_obs='DD', min_alt=20.,\n",
    "                                                   filter_goals=filter_prop))\n",
    "# surveys.append(fs.Pairs_survey_scripted([], [], ignore_obs='DD'))\n",
    "\n",
    "# Set up the DD\n",
    "# ELAIS S1\n",
    "surveys.append(fs.Deep_drilling_survey(9.45, -44., sequence='rgizy',\n",
    "                                       nvis=[20, 10, 20, 26, 20],\n",
    "                                       survey_name='DD:ELAISS1', reward_value=100, moon_up=None,\n",
    "                                       fraction_limit=0.148, ha_limits=([0., 0.5], [23.5, 24.]),\n",
    "                                       nside=nside,\n",
    "                                       avoid_same_day=True,\n",
    "                                       filter_goals=filter_prop))\n",
    "surveys.append(fs.Deep_drilling_survey(9.45, -44., sequence='u',\n",
    "                                       nvis=[7],\n",
    "                                       survey_name='DD:u,ELAISS1', reward_value=100, moon_up=False,\n",
    "                                       fraction_limit=0.0012, ha_limits=([0., 0.5], [23.5, 24.]),\n",
    "                                       nside=nside))\n",
    "\n",
    "# XMM-LSS\n",
    "surveys.append(fs.Deep_drilling_survey(35.708333, -4 - 45 / 60., sequence='rgizy',\n",
    "                                       nvis=[20, 10, 20, 26, 20],\n",
    "                                       survey_name='DD:XMM-LSS', reward_value=100, moon_up=None,\n",
    "                                       fraction_limit=0.148, ha_limits=([0., 0.5], [23.5, 24.]),\n",
    "                                       nside=nside,\n",
    "                                       avoid_same_day=True,\n",
    "                                       filter_goals=filter_prop))\n",
    "surveys.append(fs.Deep_drilling_survey(35.708333, -4 - 45 / 60., sequence='u',\n",
    "                                       nvis=[7],\n",
    "                                       survey_name='DD:u,XMM-LSS', reward_value=100, moon_up=False,\n",
    "                                       fraction_limit=0.0012, ha_limits=([0., 0.5], [23.5, 24.]),\n",
    "                                       nside=nside))\n",
    "\n",
    "# Extended Chandra Deep Field South\n",
    "# XXX--Note, this one can pass near zenith. Should go back and add better planning on this.\n",
    "surveys.append(fs.Deep_drilling_survey(53.125, -28. - 6 / 60., sequence='rgizy',\n",
    "                                       nvis=[20, 10, 20, 26, 20],\n",
    "                                       survey_name='DD:ECDFS', reward_value=100, moon_up=None,\n",
    "                                       fraction_limit=0.148, ha_limits=[[0.5, 1.0], [23., 22.5]],\n",
    "                                       nside=nside,\n",
    "                                       avoid_same_day=True,\n",
    "                                       filter_goals=filter_prop))\n",
    "surveys.append(fs.Deep_drilling_survey(53.125, -28. - 6 / 60., sequence='u',\n",
    "                                       nvis=[7],\n",
    "                                       survey_name='DD:u,ECDFS', reward_value=100, moon_up=False,\n",
    "                                       fraction_limit=0.0012, ha_limits=[[0.5, 1.0], [23., 22.5]],\n",
    "                                       nside=nside))\n",
    "# COSMOS\n",
    "surveys.append(fs.Deep_drilling_survey(150.1, 2. + 10. / 60. + 55 / 3600., sequence='rgizy',\n",
    "                                       nvis=[20, 10, 20, 26, 20],\n",
    "                                       survey_name='DD:COSMOS', reward_value=100, moon_up=None,\n",
    "                                       fraction_limit=0.148, ha_limits=([0., 0.5], [23.5, 24.]),\n",
    "                                       nside=nside,\n",
    "                                       avoid_same_day=True,\n",
    "                                       filter_goals=filter_prop))\n",
    "surveys.append(fs.Deep_drilling_survey(150.1, 2. + 10. / 60. + 55 / 3600., sequence='u',\n",
    "                                       nvis=[7], ha_limits=([0., .5], [23.5, 24.]),\n",
    "                                       survey_name='DD:u,COSMOS', reward_value=100, moon_up=False,\n",
    "                                       fraction_limit=0.0012,\n",
    "                                       nside=nside))\n",
    "\n",
    "# Extra DD Field, just to get to 5. Still not closed on this one\n",
    "surveys.append(fs.Deep_drilling_survey(349.386443, -63.321004, sequence='rgizy',\n",
    "                                       nvis=[20, 10, 20, 26, 20],\n",
    "                                       survey_name='DD:290', reward_value=100, moon_up=None,\n",
    "                                       fraction_limit=0.148, ha_limits=([0., 0.5], [23.5, 24.]),\n",
    "                                       nside=nside,\n",
    "                                       avoid_same_day=True,\n",
    "                                       filter_goals=filter_prop))\n",
    "surveys.append(fs.Deep_drilling_survey(349.386443, -63.321004, sequence='u',\n",
    "                                       nvis=[7],\n",
    "                                       survey_name='DD:u,290', reward_value=100, moon_up=False,\n",
    "                                       fraction_limit=0.0012, ha_limits=([0., 0.5], [23.5, 24.]),\n",
    "                                       nside=nside,\n",
    "                                       filter_goals=filter_prop))\n",
    "\n",
    "scheduler = fs.Core_scheduler(surveys, nside=nside)  # Required"
   ]
  },
  {
   "cell_type": "markdown",
   "metadata": {},
   "source": [
    "Now we load the configuration to driver. We basically need to two two steps, load `scheduler`, `nside` and `survey_topology`.  "
   ]
  },
  {
   "cell_type": "code",
   "execution_count": 10,
   "metadata": {},
   "outputs": [],
   "source": [
    "sim.driver.scheduler = scheduler\n",
    "sim.driver.sky_nside = nside\n",
    "\n",
    "sim.conf_comm.num_proposals = survey_topology.num_props\n",
    "sim.conf_comm.survey_topology['general'] = survey_topology.general_propos\n",
    "sim.conf_comm.survey_topology['sequence'] = survey_topology.sequence_propos"
   ]
  },
  {
   "cell_type": "markdown",
   "metadata": {},
   "source": [
    "We now initialize the simulator."
   ]
  },
  {
   "cell_type": "code",
   "execution_count": 11,
   "metadata": {},
   "outputs": [
    {
     "name": "stderr",
     "output_type": "stream",
     "text": [
      "09-11 19:44 kernel.Simulator INFO     Initializing simulation\n",
      "09-11 19:44 kernel.Simulator INFO     Simulation Session Id = 2002\n",
      "09-11 19:44 configuration.ConfigurationCommunicator INFO     Initializing configuration communication\n",
      "09-11 19:44 kernel.Simulator INFO     Finishing simulation initialization\n"
     ]
    }
   ],
   "source": [
    "sim.initialize()"
   ]
  },
  {
   "cell_type": "markdown",
   "metadata": {},
   "source": [
    "And we are ready to run the simulation."
   ]
  },
  {
   "cell_type": "code",
   "execution_count": 12,
   "metadata": {},
   "outputs": [
    {
     "name": "stderr",
     "output_type": "stream",
     "text": [
      "09-11 19:44 kernel.Simulator INFO     Starting simulation\n",
      "09-11 19:44 kernel.Simulator INFO     run: rx scheduler config survey_duration=3650.0\n",
      "09-11 19:44 kernel.Simulator INFO     run: rx driver config={'ranking': {'coadd_values': 1, 'time_balancing': 1, 'timecost_time_max': 150.0, 'timecost_time_ref': 5.0, 'timecost_cost_ref': 0.3, 'timecost_weight': 1.0, 'filtercost_weight': 1.0, 'propboost_weight': 1.0, 'lookahead_window_size': 0, 'lookahead_bonus_weight': 0.0}, 'constraints': {'night_boundary': -12.0, 'ignore_sky_brightness': 0, 'ignore_airmass': 0, 'ignore_clouds': 0, 'ignore_seeing': 0}, 'darktime': {'new_moon_phase_threshold': 20.0}, 'startup': {'type': 'HOT', 'database': ''}}\n",
      "09-11 19:44 kernel.Simulator INFO     run: rx site config={'obs_site': {'name': 'Cerro Pachon', 'latitude': -30.2444, 'longitude': -70.7494, 'height': 2650.0}}\n",
      "09-11 19:44 kernel.Simulator INFO     run: rx telescope config={'telescope': {'altitude_minpos': 20.0, 'altitude_maxpos': 86.5, 'azimuth_minpos': -270.0, 'azimuth_maxpos': 270.0, 'altitude_maxspeed': 3.5, 'altitude_accel': 3.5, 'altitude_decel': 3.5, 'azimuth_maxspeed': 7.0, 'azimuth_accel': 7.0, 'azimuth_decel': 7.0, 'settle_time': 3.0}}\n",
      "09-11 19:44 kernel.Simulator INFO     run: rx dome config={'dome': {'altitude_maxspeed': 1.75, 'altitude_accel': 0.875, 'altitude_decel': 0.875, 'altitude_freerange': 0.0, 'azimuth_maxspeed': 1.5, 'azimuth_accel': 0.75, 'azimuth_decel': 0.75, 'azimuth_freerange': 4.0, 'settle_time': 0.0}}\n",
      "09-11 19:44 kernel.Simulator INFO     run: rx rotator config={'rotator': {'minpos': -90.0, 'maxpos': 90.0, 'maxspeed': 3.5, 'accel': 1.0, 'decel': 1.0, 'filter_change_pos': 0.0, 'follow_sky': 0, 'resume_angle': 0}}\n",
      "09-11 19:44 kernel.Simulator INFO     run: rx camera config={'camera': {'readout_time': 2.0, 'shutter_time': 1.0, 'filter_change_time': 120.0, 'filter_max_changes_burst_num': 1, 'filter_max_changes_burst_time': 0.0, 'filter_max_changes_avg_num': 3000, 'filter_max_changes_avg_time': 31557600.0, 'filter_removable': ['y', 'z'], 'filter_mounted': ['g', 'r', 'i', 'z', 'y'], 'filter_unmounted': ['u']}}\n",
      "09-11 19:44 kernel.Simulator INFO     run: rx slew config={'slew': {'prereq_domalt': [], 'prereq_domaz': [], 'prereq_domazsettle': ['domaz'], 'prereq_telalt': [], 'prereq_telaz': [], 'prereq_telopticsopenloop': ['telalt', 'telaz'], 'prereq_telopticsclosedloop': ['domalt', 'domazsettle', 'telsettle', 'readout', 'telopticsopenloop', 'filter', 'telrot'], 'prereq_telsettle': ['telalt', 'telaz'], 'prereq_telrot': [], 'prereq_filter': [], 'prereq_exposures': ['telopticsclosedloop'], 'prereq_readout': []}}\n",
      "09-11 19:44 kernel.Simulator INFO     run: rx optics config={'optics_loop_corr': {'tel_optics_ol_slope': 0.2857142857142857, 'tel_optics_cl_alt_limit': [0.0, 9.0, 90.0], 'tel_optics_cl_delay': [0.0, 36.0]}}\n",
      "09-11 19:44 kernel.Simulator INFO     run: rx park config={'park': {'telescope_altitude': 86.5, 'telescope_azimuth': 0.0, 'telescope_rotator': 0.0, 'dome_altitude': 90.0, 'dome_azimuth': 0.0, 'filter_position': 'z'}}\n",
      "09-11 19:44 featureSchedulerDriver INFO     Scheduler already configured.\n",
      "09-11 19:44 featureSchedulerDriver INFO     Start up type is HOT, no state will be read from the EFD.\n",
      "09-11 19:44 kernel.Simulator INFO     Night 1\n",
      "09-11 19:44 featureSchedulerDriver INFO     start_survey t=1664580953.883245\n",
      "09-11 19:44 featureSchedulerDriver INFO     start_night t=1664580953.883245, night=1 timeprogress=0.00%\n",
      "09-11 19:44 featureSchedulerDriver INFO     start_night t=1664580953.883245, night=1 timeprogress=0.00%\n",
      "/home/opsim/repos/sims_skybrightness_pre/python/lsst/sims/skybrightness_pre/SkyModelPre.py:363: UserWarning: Requested MJD between sunrise and sunset, returning closest maps\n",
      "  warnings.warn('Requested MJD between sunrise and sunset, returning closest maps')\n",
      "/home/opsim/repos/sims_skybrightness_pre/python/lsst/sims/skybrightness_pre/SkyModelPre.py:279: UserWarning: Requested MJD between sunrise and sunset, returning closest maps\n",
      "  warnings.warn('Requested MJD between sunrise and sunset, returning closest maps')\n",
      "/home/opsim/repos/sims_seeingModel/python/lsst/sims/seeingModel/seeingModel.py:133: RuntimeWarning: invalid value encountered in power\n",
      "  airmass_correction = np.power(airmass, 0.6)\n",
      "/home/opsim/repos/sims_skybrightness_pre/python/lsst/sims/skybrightness_pre/SkyModelPre.py:49: RuntimeWarning: invalid value encountered in true_divide\n",
      "  wterm = (x - xp[left])/baseline\n",
      "09-11 19:45 featureSchedulerDriver INFO     end_night t=1664616564.504870, night=1 timeprogress=0.01%\n",
      "09-11 19:45 featureSchedulerDriver INFO     end_night next moonphase=40.78%\n",
      "09-11 19:45 featureSchedulerDriver INFO     end_night bright time waxing\n"
     ]
    }
   ],
   "source": [
    "sim.run()"
   ]
  },
  {
   "cell_type": "markdown",
   "metadata": {},
   "source": [
    "We now have access to all the scheduler data structure to play with. In the cell bellow, we plot the TargetMapBasis function for the `r` filter."
   ]
  },
  {
   "cell_type": "code",
   "execution_count": 13,
   "metadata": {},
   "outputs": [
    {
     "data": {
      "image/png": "[encoded data removed]",
      "text/plain": [
       "<Figure size 612x388.8 with 2 Axes>"
      ]
     },
     "metadata": {},
     "output_type": "display_data"
    }
   ],
   "source": [
    "hp.mollview(sim.driver.scheduler.survey_lists[0][2].basis_functions[2]())"
   ]
  },
  {
   "cell_type": "code",
   "execution_count": null,
   "metadata": {},
   "outputs": [],
   "source": []
  }
 ],
 "metadata": {
  "kernelspec": {
   "display_name": "Python 3",
   "language": "python",
   "name": "python3"
  },
  "language_info": {
   "codemirror_mode": {
    "name": "ipython",
    "version": 3
   },
   "file_extension": ".py",
   "mimetype": "text/x-python",
   "name": "python",
   "nbconvert_exporter": "python",
   "pygments_lexer": "ipython3",
   "version": "3.6.6"
  }
 },
 "nbformat": 4,
 "nbformat_minor": 2
}
